{
 "cells": [
  {
   "cell_type": "markdown",
   "metadata": {},
   "source": [
    "### Predict bankrupcy"
   ]
  },
  {
   "cell_type": "markdown",
   "metadata": {},
   "source": [
    "### Data Set Information:\n",
    "\n",
    "**The dataset is about bankruptcy prediction of Polish companies**\n",
    "\n",
    "The data was collected from Emerging Markets Information Service (EMIS, [Web Link]), which is a database containing information on emerging markets around the world. The bankrupt companies were analyzed in the period 2000-2012, while the still operating companies were evaluated from 2007 to 2013.\n",
    "\n",
    "Basing on the collected data five classification cases were distinguished, that depends on the forecasting period:\n",
    "\n",
    "- 1stYear: the data contains financial rates from 1st year of the forecasting period and corresponding class label that indicates bankruptcy status after 5 years. The data contains 7027 instances (financial statements), 271 represents bankrupted companies, 6756 firms that did not bankrupt in the forecasting period.\n",
    "\n",
    "- 2ndYear: the data contains financial rates from 2nd year of the forecasting period and corresponding class label that indicates bankruptcy status after 4 years. The data contains 10173 instances (financial statements), 400 represents bankrupted companies, 9773 firms that did not bankrupt in the forecasting period.\n",
    "\n",
    "- 3rdYear: the data contains financial rates from 3rd year of the forecasting period and corresponding class label that indicates bankruptcy status after 3 years. The data contains 10503 instances (financial statements), 495 represents bankrupted companies, 10008 firms that did not bankrupt in the forecasting period.\n",
    "\n",
    "- 4thYear: the data contains financial rates from 4th year of the forecasting period and corresponding class label that indicates bankruptcy status after 2 years. The data contains 9792 instances (financial statements), 515 represents bankrupted companies, 9277 firms that did not bankrupt in the forecasting period.\n",
    "\n",
    "- 5thYear: the data contains financial rates from 5th year of the forecasting period and corresponding class label that indicates bankruptcy status after 1 year. The data contains 5910 instances (financial statements), 410 represents bankrupted companies, 5500 firms that did not bankrupt in the forecasting period.\n",
    "\n",
    "\n",
    "### Features description\n",
    "\n",
    "- X1    net profit / total assets\n",
    "- X2    total liabilities / total assets \n",
    "- X3    working capital / total assets \n",
    "- X4    current assets / short-term liabilities \n",
    "- X5    [(cash + short-term securities + receivables - short-term liabilities) / (operating expenses - depreciation)] * 365 \n",
    "- X6    retained earnings / total assets \n",
    "- X7    EBIT / total assets \n",
    "- X8    book value of equity / total liabilities \n",
    "- X9    sales / total assets \n",
    "- X10   equity / total assets \n",
    "- X11   (gross profit + extraordinary items + financial expenses) / total assets \n",
    "- X12   gross profit / short-term liabilities \n",
    "- X13   (gross profit + depreciation) / sales \n",
    "- X14   (gross profit + interest) / total assets \n",
    "- X15   (total liabilities * 365) / (gross profit + depreciation) \n",
    "- X16   (gross profit + depreciation) / total liabilities \n",
    "- X17   total assets / total liabilities \n",
    "- X18   gross profit / total assets \n",
    "- X19   gross profit / sales \n",
    "- X20   (inventory * 365) / sales \n",
    "- X21   sales (n) / sales (n-1) \n",
    "- X22   profit on operating activities / total assets \n",
    "- X23   net profit / sales \n",
    "- X24   gross profit (in 3 years) / total assets \n",
    "- X25   (equity - share capital) / total assets \n",
    "- X26   (net profit + depreciation) / total liabilities \n",
    "- X27   profit on operating activities / financial expenses \n",
    "- X28   working capital / fixed assets \n",
    "- X29   logarithm of total assets \n",
    "- X30   (total liabilities - cash) / sales \n",
    "- X31   (gross profit + interest) / sales \n",
    "- X32   (current liabilities * 365) / cost of products sold \n",
    "- X33   operating expenses / short-term liabilities \n",
    "- X34   operating expenses / total liabilities \n",
    "- X35   profit on sales / total assets \n",
    "- X36   total sales / total assets \n",
    "- X37   (current assets - inventories) / long-term liabilities \n",
    "- X38   constant capital / total assets \n",
    "- X39   profit on sales / sales \n",
    "- X40   (current assets - inventory - receivables) / short-term liabilities \n",
    "- X41   total liabilities / ((profit on operating activities + depreciation) * (12/365)) \n",
    "- X42   profit on operating activities / sales \n",
    "- X43   rotation receivables + inventory turnover in days \n",
    "- X44   (receivables * 365) / sales \n",
    "- X45   net profit / inventory \n",
    "- X46   (current assets - inventory) / short-term liabilities \n",
    "- X47   (inventory * 365) / cost of products sold \n",
    "- X48   EBITDA (profit on operating activities - depreciation) / total assets \n",
    "- X49   EBITDA (profit on operating activities - depreciation) / sales \n",
    "- X50   current assets / total liabilities \n",
    "- X51   short-term liabilities / total assets \n",
    "- X52   (short-term liabilities * 365) / cost of products sold) \n",
    "- X53   equity / fixed assets \n",
    "- X54   constant capital / fixed assets \n",
    "- X55   working capital \n",
    "- X56   (sales - cost of products sold) / sales \n",
    "- X57   (current assets - inventory - short-term liabilities) / (sales - gross profit - depreciation) \n",
    "- X58   total costs /total sales \n",
    "- X59   long-term liabilities / equity \n",
    "- X60   sales / inventory \n",
    "- X61   sales / receivables \n",
    "- X62   (short-term liabilities *365) / sales \n",
    "- X63   sales / short-term liabilities \n",
    "- X64   sales / fixed assets\n"
   ]
  },
  {
   "cell_type": "code",
   "execution_count": 1,
   "metadata": {},
   "outputs": [],
   "source": [
    "#install neccessary package for this exercise\n",
    "from scipy.io.arff import loadarff\n",
    "import pandas as pd\n",
    "import numpy as np"
   ]
  },
  {
   "cell_type": "code",
   "execution_count": 2,
   "metadata": {},
   "outputs": [],
   "source": [
    "#import data from arff files\n",
    "data_objects = []\n",
    "for i in range(1,6):\n",
    "    i = str(i)\n",
    "    file_name = i+'year.arff'\n",
    "    data_objects.append(loadarff('data/bankruptcy/'+i+'year.arff'))"
   ]
  },
  {
   "cell_type": "code",
   "execution_count": 3,
   "metadata": {},
   "outputs": [
    {
     "data": {
      "text/plain": [
       "(43405, 65)"
      ]
     },
     "execution_count": 3,
     "metadata": {},
     "output_type": "execute_result"
    }
   ],
   "source": [
    "#creating dataframes\n",
    "df_list = [pd.DataFrame.from_records(data = x[0]) for x in data_objects]\n",
    "companies = pd.concat(df_list, axis = 0)\n",
    "column_names = ['x' + str(i) for i in range(1,65)] + ['bankrupt']\n",
    "column_names = {k:v for (k,v) in zip(companies.columns, column_names)}\n",
    "companies.rename(columns = column_names, inplace = True)\n",
    "companies['bankrupt'] = companies['bankrupt'].astype('int')\n",
    "companies.shape\n"
   ]
  },
  {
   "cell_type": "code",
   "execution_count": 4,
   "metadata": {},
   "outputs": [
    {
     "data": {
      "text/plain": [
       "x1            8\n",
       "x2            8\n",
       "x3            8\n",
       "x4          134\n",
       "x5           89\n",
       "           ... \n",
       "x61         102\n",
       "x62         127\n",
       "x63         134\n",
       "x64         812\n",
       "bankrupt      0\n",
       "Length: 65, dtype: int64"
      ]
     },
     "execution_count": 4,
     "metadata": {},
     "output_type": "execute_result"
    }
   ],
   "source": [
    "missing_values_count = companies.isnull().sum()\n",
    "missing_values_count\n"
   ]
  },
  {
   "cell_type": "code",
   "execution_count": 5,
   "metadata": {},
   "outputs": [],
   "source": [
    "#delete all col with > 2000 NaN\n",
    "col_to_drop = companies[['x21', 'x27','x37', 'x45', 'x60']]\n",
    "companies_new = companies.drop(col_to_drop, axis = 1)"
   ]
  },
  {
   "cell_type": "code",
   "execution_count": 6,
   "metadata": {},
   "outputs": [],
   "source": [
    "#replace col with na with median value\n",
    "companies_new = companies_new.fillna(companies_new.median())"
   ]
  },
  {
   "cell_type": "code",
   "execution_count": 7,
   "metadata": {},
   "outputs": [
    {
     "data": {
      "text/plain": [
       "x1          0\n",
       "x2          0\n",
       "x3          0\n",
       "x4          0\n",
       "x5          0\n",
       "x6          0\n",
       "x7          0\n",
       "x8          0\n",
       "x9          0\n",
       "x10         0\n",
       "x11         0\n",
       "x12         0\n",
       "x13         0\n",
       "x14         0\n",
       "x15         0\n",
       "x16         0\n",
       "x17         0\n",
       "x18         0\n",
       "x19         0\n",
       "x20         0\n",
       "x22         0\n",
       "x23         0\n",
       "x24         0\n",
       "x25         0\n",
       "x26         0\n",
       "x28         0\n",
       "x29         0\n",
       "x30         0\n",
       "x31         0\n",
       "x32         0\n",
       "x33         0\n",
       "x34         0\n",
       "x35         0\n",
       "x36         0\n",
       "x38         0\n",
       "x39         0\n",
       "x40         0\n",
       "x41         0\n",
       "x42         0\n",
       "x43         0\n",
       "x44         0\n",
       "x46         0\n",
       "x47         0\n",
       "x48         0\n",
       "x49         0\n",
       "x50         0\n",
       "x51         0\n",
       "x52         0\n",
       "x53         0\n",
       "x54         0\n",
       "x55         0\n",
       "x56         0\n",
       "x57         0\n",
       "x58         0\n",
       "x59         0\n",
       "x61         0\n",
       "x62         0\n",
       "x63         0\n",
       "x64         0\n",
       "bankrupt    0\n",
       "dtype: int64"
      ]
     },
     "execution_count": 7,
     "metadata": {},
     "output_type": "execute_result"
    }
   ],
   "source": [
    "companies_new.isna().sum()"
   ]
  },
  {
   "cell_type": "code",
   "execution_count": 8,
   "metadata": {},
   "outputs": [
    {
     "data": {
      "text/plain": [
       "0    41314\n",
       "1     2091\n",
       "Name: bankrupt, dtype: int64"
      ]
     },
     "execution_count": 8,
     "metadata": {},
     "output_type": "execute_result"
    }
   ],
   "source": [
    "companies['bankrupt'].value_counts()"
   ]
  },
  {
   "cell_type": "code",
   "execution_count": 9,
   "metadata": {},
   "outputs": [
    {
     "data": {
      "text/plain": [
       "0    95.182583\n",
       "1     4.817417\n",
       "Name: bankrupt, dtype: float64"
      ]
     },
     "execution_count": 9,
     "metadata": {},
     "output_type": "execute_result"
    }
   ],
   "source": [
    "#Gånger 100 och normalize True för att få fram andel procesnt som är True/False, dvs som gått i konkurs\n",
    "100*companies['bankrupt'].value_counts(normalize = True)"
   ]
  },
  {
   "cell_type": "code",
   "execution_count": null,
   "metadata": {},
   "outputs": [],
   "source": []
  }
 ],
 "metadata": {
  "interpreter": {
   "hash": "b748c15cd7073bcacce8a685867ec975c5d96dc6b586ea72b206bb42e390eff3"
  },
  "kernelspec": {
   "display_name": "Python 3.9.7 ('pred_env')",
   "language": "python",
   "name": "python3"
  },
  "language_info": {
   "codemirror_mode": {
    "name": "ipython",
    "version": 3
   },
   "file_extension": ".py",
   "mimetype": "text/x-python",
   "name": "python",
   "nbconvert_exporter": "python",
   "pygments_lexer": "ipython3",
   "version": "3.9.7"
  },
  "orig_nbformat": 4
 },
 "nbformat": 4,
 "nbformat_minor": 2
}
