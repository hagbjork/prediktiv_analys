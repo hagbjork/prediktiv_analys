{
 "cells": [
  {
   "cell_type": "markdown",
   "metadata": {},
   "source": [
    "# Lecture 6 - Exercise 2 - Credit Card Default"
   ]
  },
  {
   "cell_type": "markdown",
   "metadata": {},
   "source": [
    "### Start to read in data"
   ]
  },
  {
   "cell_type": "code",
   "execution_count": null,
   "metadata": {},
   "outputs": [],
   "source": [
    "#import packages"
   ]
  },
  {
   "cell_type": "code",
   "execution_count": null,
   "metadata": {},
   "outputs": [],
   "source": []
  },
  {
   "cell_type": "markdown",
   "metadata": {},
   "source": [
    "### EDA"
   ]
  },
  {
   "cell_type": "code",
   "execution_count": null,
   "metadata": {},
   "outputs": [],
   "source": [
    "#lower case\n",
    "default.columns = default.columns.str.lower()\n",
    "\n",
    "#ta bort alla -1 poster\n",
    "pay_features = ['pay_0', etc]\n",
    "for p in pay_features:\n",
    "    default.loc[default[p] <=0, p] = 0\n",
    "\n",
    "#rename\n",
    "degault.rename(columns={'default pyment next month'}, inplace = True)"
   ]
  },
  {
   "cell_type": "code",
   "execution_count": null,
   "metadata": {},
   "outputs": [],
   "source": [
    "#skapa dummy var\n",
    "#ett sätt är 'get_dummy'. titta gåradagen\n",
    "#andra sättet är nedan\n",
    "\n",
    "default['grad_school'] = (default['education'] == 1).astype('int')\n",
    "#upprepa för samtliga features som du vill göra om till dummy\n",
    "\n",
    "default.drop(['education', 'sex', 'marriage'], axis = 1, inplace = True)\n",
    "default.head()"
   ]
  }
 ],
 "metadata": {
  "interpreter": {
   "hash": "b748c15cd7073bcacce8a685867ec975c5d96dc6b586ea72b206bb42e390eff3"
  },
  "kernelspec": {
   "display_name": "Python 3.9.7 ('pred_env')",
   "language": "python",
   "name": "python3"
  },
  "language_info": {
   "name": "python",
   "version": "3.9.7"
  },
  "orig_nbformat": 4
 },
 "nbformat": 4,
 "nbformat_minor": 2
}
